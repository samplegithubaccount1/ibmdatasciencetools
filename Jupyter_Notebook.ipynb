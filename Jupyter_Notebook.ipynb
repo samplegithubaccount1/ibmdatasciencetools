{
 "cells": [
  {
   "cell_type": "markdown",
   "metadata": {},
   "source": [
    "<center>\n",
    "    <img src=\"https://cf-courses-data.s3.us.cloud-object-storage.appdomain.cloud/IBMDeveloperSkillsNetwork-DS0105EN-SkillsNetwork/labs/Module2/images/SN_web_lightmode.png\" width=\"300\" alt=\"cognitiveclass.ai logo\">\n",
    "</center>\n"
   ]
  },
  {
   "cell_type": "markdown",
   "metadata": {},
   "source": [
    "#### Add your code below following the instructions given in the course\n"
   ]
  },
  {
   "cell_type": "markdown",
   "metadata": {},
   "source": [
    "# Exercise 2 - Create a markdown cell with the title of the notebook. (1 pt)\n",
    "\n",
    "# Title : Peer Graded Assignment"
   ]
  },
  {
   "cell_type": "markdown",
   "metadata": {},
   "source": [
    "## Exercise 3 - Create a markdown cell for an introduction. (1 pt)\n",
    "\n",
    "### Introduction: This assignment will showcase the skills learned through the length of the entire course using this jupyter notebook\n"
   ]
  },
  {
   "cell_type": "markdown",
   "metadata": {},
   "source": [
    "## Exercise 4 - Create a markdown cell to list data science languages. (3 pts)\n",
    "\n",
    "### Data science languages are: R, Python, Java, Scala, C++, Ruby, JavaScript, Julia, etc."
   ]
  },
  {
   "cell_type": "markdown",
   "metadata": {},
   "source": [
    "## Exercise 5 - Create a markdown cell to list data science libraries. (3 pts)\n",
    "\n",
    "### Data Science libraries are: \n",
    "### Python: Matplotlib, Numpy, Pandas, Seaborn, SciKit-Learn, Keras, TensorFlow, PyTorch, \n",
    "### Scala: BigDL, Vegas\n",
    "### R: Keras, TensorFlow\n"
   ]
  },
  {
   "cell_type": "markdown",
   "metadata": {},
   "source": [
    "## Exercise 6 - Create a markdown cell with a table of Data Science tools. (3 pts)\n",
    "\n",
    "| Type | Use | Examples |\n",
    "| --- | --- | --- |\n",
    "| Open Source | Data Management | MySQL, MongoDB, CouchDB, Hadoop, Cassandra |\n",
    "| Open Source | Data Integration/Transformation | CubeFlow, Airflow, Kafka, Nifi |\n",
    "| Open Source | Data Visualization | Hue, PixieDust, Kibana, Superset |\n",
    "| Open Source | Model Deployment | PredictionIO, MLeap, Seldom, TensorFlowServing |\n",
    "| Open Source | Model Monitoring | ModelDB, Prometheus |\n",
    "| Open Source | Code Asset Management | Git, GitHub, GitLab |\n",
    "| Open Source | Data Asset Management | Apache Atlas, Egeria, Kylo |\n",
    "| Open Source | Dev Environments | Jupyter, Apache Zepplin, RStudio |\n",
    "| Open Source | Execution Environments | Apache Spark, Flink, Ray |\n",
    "| Open Source | Fully Integrated Visual Tools | Knime, Orange |\n",
    "| Commercial | Data Management | Oracle, IBM DB2, Microsoft SQL Server |\n",
    "| Commercial | Data Integration/Transformation | Informatica, Talend, IBM Infosphere Datastage |\n",
    "| Commercial | Data Visualization | Tableau, IBM Cognos Analytics |\n",
    "| Commercial | Model Building | SPSS, SAS |\n",
    "| Commercial | Model Deployment | IBM SPSS |\n",
    "| Commercial | Data Asset Management | Informatica |\n",
    "| Cloud | Fully integrated visual tools | IBM Watson Studio, Azure Machine Learning, H2O |\n",
    "| Cloud | Data Management | Amazon DynamoDB, Cloudant, CouchDB, IBM DB2 |\n",
    "| Cloud | Data Integration/Transformation | Informatica, IBM Dta Refinery |\n",
    "| Cloud | Data Visualization | Datamer, IBM Cognos Analytics |\n",
    "| Cloud | Model Building | IBM Watson Machine Learning, Google Cloud |\n",
    "| Cloud | Model Deployment | SPSS Modeler |\n",
    "| Cloud | Model Monitoring | Amazon SageMaker Model Monitor |\n",
    "\n",
    "\n",
    "\n",
    "\n",
    "\n",
    "\n",
    "\n",
    "\n",
    "\n",
    "\n",
    "\n",
    "\n",
    "\n",
    "\n",
    "\n",
    "\n",
    "\n",
    "\n",
    "\n",
    "\n",
    "\n"
   ]
  },
  {
   "cell_type": "markdown",
   "metadata": {},
   "source": [
    "## Exercise 7 - Create a markdown cell introducing arithmetic expression examples. (1 pt)\n",
    "### examples: x=y**2\n",
    "### y=x+2-3\n",
    "### z= x//y\n"
   ]
  },
  {
   "cell_type": "markdown",
   "metadata": {},
   "source": [
    "## Exercise 8 - Create a code cell to multiply and add numbers. (2 pts)\n",
    "\n"
   ]
  },
  {
   "cell_type": "code",
   "execution_count": 2,
   "metadata": {
    "tags": []
   },
   "outputs": [],
   "source": [
    "#add\n",
    "def addnum(x,y):\n",
    "    z=x+y\n",
    "    return z\n",
    "\n",
    "def mulnum(x,y):\n",
    "    z=x*y\n",
    "    return z"
   ]
  },
  {
   "cell_type": "markdown",
   "metadata": {},
   "source": [
    "## Exercise 9 - Create a code cell to convert minutes to hours. (2 pts)\n",
    "\n"
   ]
  },
  {
   "cell_type": "code",
   "execution_count": 4,
   "metadata": {
    "tags": []
   },
   "outputs": [],
   "source": [
    "def mintohour(x):\n",
    "    y=x/60\n",
    "    return y"
   ]
  },
  {
   "cell_type": "markdown",
   "metadata": {},
   "source": [
    "## Exercise 10 -Insert a markdown cell to list Objectives. (3 pts)\n",
    "\n"
   ]
  },
  {
   "cell_type": "markdown",
   "metadata": {},
   "source": [
    "### 1. Create a jupyter notebook file\n",
    "### 2. Learn to use markdown cells\n",
    "### 3. Learn to write simple arithmetic expressions using code\n",
    "### 4. Publish the notebook to github"
   ]
  },
  {
   "cell_type": "markdown",
   "metadata": {},
   "source": [
    "## Exercise 11 - Create a markdown cell to indicate the Author’s name. (2 pts)\n",
    "### Author: Nitin Gowda\n"
   ]
  },
  {
   "cell_type": "code",
   "execution_count": null,
   "metadata": {},
   "outputs": [],
   "source": []
  }
 ],
 "metadata": {
  "kernelspec": {
   "display_name": "Python",
   "language": "python",
   "name": "conda-env-python-py"
  },
  "language_info": {
   "codemirror_mode": {
    "name": "ipython",
    "version": 3
   },
   "file_extension": ".py",
   "mimetype": "text/x-python",
   "name": "python",
   "nbconvert_exporter": "python",
   "pygments_lexer": "ipython3",
   "version": "3.7.12"
  }
 },
 "nbformat": 4,
 "nbformat_minor": 4
}
